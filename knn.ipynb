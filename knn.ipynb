{
 "cells": [
  {
   "cell_type": "code",
   "execution_count": 1,
   "source": [
    "from pyspark.sql import SparkSession\n",
    "spark = SparkSession.builder.getOrCreate()"
   ],
   "outputs": [
    {
     "output_type": "stream",
     "name": "stderr",
     "text": [
      "21/08/15 10:45:08 WARN Utils: Your hostname, DESKTOP-09QASF3 resolves to a loopback address: 127.0.1.1; using 172.20.197.123 instead (on interface eth0)\n",
      "21/08/15 10:45:08 WARN Utils: Set SPARK_LOCAL_IP if you need to bind to another address\n",
      "WARNING: An illegal reflective access operation has occurred\n",
      "WARNING: Illegal reflective access by org.apache.spark.unsafe.Platform (file:/home/rcmarc/dev/pyspark/.venv/lib/python3.8/site-packages/pyspark/jars/spark-unsafe_2.12-3.1.2.jar) to constructor java.nio.DirectByteBuffer(long,int)\n",
      "WARNING: Please consider reporting this to the maintainers of org.apache.spark.unsafe.Platform\n",
      "WARNING: Use --illegal-access=warn to enable warnings of further illegal reflective access operations\n",
      "WARNING: All illegal access operations will be denied in a future release\n",
      "21/08/15 10:45:11 WARN NativeCodeLoader: Unable to load native-hadoop library for your platform... using builtin-java classes where applicable\n",
      "Using Spark's default log4j profile: org/apache/spark/log4j-defaults.properties\n",
      "Setting default log level to \"WARN\".\n",
      "To adjust logging level use sc.setLogLevel(newLevel). For SparkR, use setLogLevel(newLevel).\n"
     ]
    }
   ],
   "metadata": {}
  },
  {
   "cell_type": "code",
   "execution_count": 2,
   "source": [
    "df = spark.read.csv(\"data.csv\", inferSchema=True, header=True)"
   ],
   "outputs": [],
   "metadata": {}
  },
  {
   "cell_type": "code",
   "execution_count": 3,
   "source": [
    "from pyspark.ml.feature import VectorAssembler, MaxAbsScaler\n",
    "from data import cols, labels\n",
    "\n",
    "assembler1 = VectorAssembler(inputCols=cols, outputCol=\"features\")\n",
    "assembler2 = VectorAssembler(inputCols=labels, outputCol=\"label\")\n",
    "scaler = MaxAbsScaler(inputCol=\"features\", outputCol=\"featuresScaled\")"
   ],
   "outputs": [],
   "metadata": {}
  },
  {
   "cell_type": "code",
   "execution_count": 4,
   "source": [
    "from pyspark.ml.pipeline import Pipeline\n",
    "pipeline = Pipeline(stages=[assembler1, assembler2, scaler])"
   ],
   "outputs": [],
   "metadata": {}
  },
  {
   "cell_type": "code",
   "execution_count": 5,
   "source": [
    "model = pipeline.fit(df)\n",
    "data = model.transform(df)"
   ],
   "outputs": [],
   "metadata": {}
  },
  {
   "cell_type": "code",
   "execution_count": 6,
   "source": [
    "train_set, test_set = data.randomSplit([.8, .2], 1234)"
   ],
   "outputs": [],
   "metadata": {}
  },
  {
   "cell_type": "code",
   "execution_count": 7,
   "source": [
    "from knn import KNNClassifier\n",
    "from pyspark.sql import DataFrame\n",
    "classifier = KNNClassifier(featuresCol=\"featuresScaled\", labelCol=\"label\", k=1, predictionCol=\"predicted\")\n",
    "knn_model=classifier.fit(train_set)\n",
    "transformed: DataFrame = knn_model.transform(test_set)"
   ],
   "outputs": [
    {
     "output_type": "stream",
     "name": "stderr",
     "text": []
    }
   ],
   "metadata": {}
  },
  {
   "cell_type": "code",
   "execution_count": 8,
   "source": [
    "from evaluator import ArrayClassificationEvaluator\n",
    "eval = ArrayClassificationEvaluator(labelCol = \"label\", predictionCol = \"predicted\")"
   ],
   "outputs": [],
   "metadata": {}
  },
  {
   "cell_type": "code",
   "execution_count": 9,
   "source": [
    "eval.evaluate(transformed)"
   ],
   "outputs": [
    {
     "output_type": "stream",
     "name": "stderr",
     "text": []
    },
    {
     "output_type": "execute_result",
     "data": {
      "text/plain": [
       "{0: 0.23728813559322035, 1: 0.24858757062146894, 2: 0.22033898305084745}"
      ]
     },
     "metadata": {},
     "execution_count": 9
    }
   ],
   "metadata": {}
  }
 ],
 "metadata": {
  "orig_nbformat": 4,
  "language_info": {
   "name": "python",
   "version": "3.8.10",
   "mimetype": "text/x-python",
   "codemirror_mode": {
    "name": "ipython",
    "version": 3
   },
   "pygments_lexer": "ipython3",
   "nbconvert_exporter": "python",
   "file_extension": ".py"
  },
  "kernelspec": {
   "name": "python3",
   "display_name": "Python 3.8.10 64-bit ('.venv': venv)"
  },
  "interpreter": {
   "hash": "3a1bc6e93a712cc68baa33490b6c787a17083f723feae8e5113fe2c540d782b9"
  }
 },
 "nbformat": 4,
 "nbformat_minor": 2
}